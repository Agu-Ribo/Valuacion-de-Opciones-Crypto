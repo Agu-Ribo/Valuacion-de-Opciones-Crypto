{
  "nbformat": 4,
  "nbformat_minor": 0,
  "metadata": {
    "kernelspec": {
      "display_name": "Python 3",
      "language": "python",
      "name": "python3"
    },
    "language_info": {
      "codemirror_mode": {
        "name": "ipython",
        "version": 3
      },
      "file_extension": ".py",
      "mimetype": "text/x-python",
      "name": "python",
      "nbconvert_exporter": "python",
      "pygments_lexer": "ipython3",
      "version": "3.6.4"
    },
    "colab": {
      "name": "Valuación de Opciones Crypto.ipynb",
      "provenance": []
    }
  },
  "cells": [
    {
      "cell_type": "markdown",
      "metadata": {
        "id": "s_dVip8_xJyO"
      },
      "source": [
        "<br>\n",
        "Archivo para traer opciones de $BTC"
      ]
    },
    {
      "cell_type": "markdown",
      "metadata": {
        "id": "yTGd-bnpR8HH"
      },
      "source": [
        "# Datos"
      ]
    },
    {
      "cell_type": "code",
      "metadata": {
        "colab": {
          "base_uri": "https://localhost:8080/"
        },
        "id": "-akTGW0JxJyQ",
        "outputId": "a8aed180-7962-479f-a931-0ebd5816f913"
      },
      "source": [
        "pip install websockets\n"
      ],
      "execution_count": null,
      "outputs": [
        {
          "output_type": "stream",
          "name": "stdout",
          "text": [
            "Requirement already satisfied: websockets in /usr/local/lib/python3.7/dist-packages (10.1)\n"
          ]
        }
      ]
    },
    {
      "cell_type": "code",
      "metadata": {
        "colab": {
          "base_uri": "https://localhost:8080/"
        },
        "id": "BN7YpuzBxz7-",
        "outputId": "b55ca632-7dff-4f72-e2c1-9b7a1a6ee35f"
      },
      "source": [
        "pip install QuantLib"
      ],
      "execution_count": null,
      "outputs": [
        {
          "output_type": "stream",
          "name": "stdout",
          "text": [
            "Requirement already satisfied: QuantLib in /usr/local/lib/python3.7/dist-packages (1.24)\n"
          ]
        }
      ]
    },
    {
      "cell_type": "code",
      "metadata": {
        "colab": {
          "base_uri": "https://localhost:8080/"
        },
        "id": "mKP4hH2GXD-D",
        "outputId": "478180cb-3f6a-4cac-978d-00c019977b76"
      },
      "source": [
        "pip install yahoofinancials"
      ],
      "execution_count": null,
      "outputs": [
        {
          "output_type": "stream",
          "name": "stdout",
          "text": [
            "Requirement already satisfied: yahoofinancials in /usr/local/lib/python3.7/dist-packages (1.6)\n",
            "Requirement already satisfied: beautifulsoup4 in /usr/local/lib/python3.7/dist-packages (from yahoofinancials) (4.6.3)\n",
            "Requirement already satisfied: pytz in /usr/local/lib/python3.7/dist-packages (from yahoofinancials) (2018.9)\n"
          ]
        }
      ]
    },
    {
      "cell_type": "code",
      "source": [
        "pip install sklearn"
      ],
      "metadata": {
        "colab": {
          "base_uri": "https://localhost:8080/"
        },
        "id": "CYFoLC4HhC6C",
        "outputId": "f071084c-c5a7-4fb3-af9d-3fa170ea3431"
      },
      "execution_count": null,
      "outputs": [
        {
          "output_type": "stream",
          "name": "stdout",
          "text": [
            "Requirement already satisfied: sklearn in /usr/local/lib/python3.7/dist-packages (0.0)\n",
            "Requirement already satisfied: scikit-learn in /usr/local/lib/python3.7/dist-packages (from sklearn) (1.0.1)\n",
            "Requirement already satisfied: threadpoolctl>=2.0.0 in /usr/local/lib/python3.7/dist-packages (from scikit-learn->sklearn) (3.0.0)\n",
            "Requirement already satisfied: scipy>=1.1.0 in /usr/local/lib/python3.7/dist-packages (from scikit-learn->sklearn) (1.4.1)\n",
            "Requirement already satisfied: numpy>=1.14.6 in /usr/local/lib/python3.7/dist-packages (from scikit-learn->sklearn) (1.19.5)\n",
            "Requirement already satisfied: joblib>=0.11 in /usr/local/lib/python3.7/dist-packages (from scikit-learn->sklearn) (1.1.0)\n"
          ]
        }
      ]
    },
    {
      "cell_type": "code",
      "metadata": {
        "id": "GBu24jqlxJyR"
      },
      "source": [
        "import requests\n",
        "import pandas as pd\n",
        "import asyncio\n",
        "import websockets\n",
        "import json\n",
        "import QuantLib as ql\n",
        "import math\n",
        "import numpy as np\n",
        "from datetime import datetime, date, timedelta\n",
        "from yahoofinancials import YahooFinancials\n",
        "import matplotlib.pyplot as plt\n",
        "from datetime import datetime\n",
        "import sys\n",
        "from sklearn import preprocessing\n",
        "from scipy.stats import norm"
      ],
      "execution_count": null,
      "outputs": []
    },
    {
      "cell_type": "code",
      "metadata": {
        "colab": {
          "base_uri": "https://localhost:8080/",
          "height": 53
        },
        "id": "bGOZAcKUxJyT",
        "outputId": "912624ef-7f54-46c0-9088-e5e9ec1c9242"
      },
      "source": [
        "\"\"\"from opcion_europea_bin import opcion_europea_bin\n",
        "from opcion_europea_bin_c import opcion_europea_bin_c\n",
        "from opcion_americana_bin import opcion_americana_bin\n",
        "from opcion_europea_bs import opcion_europea_bs\"\"\""
      ],
      "execution_count": null,
      "outputs": [
        {
          "output_type": "execute_result",
          "data": {
            "application/vnd.google.colaboratory.intrinsic+json": {
              "type": "string"
            },
            "text/plain": [
              "'from opcion_europea_bin import opcion_europea_bin\\nfrom opcion_europea_bin_c import opcion_europea_bin_c\\nfrom opcion_americana_bin import opcion_americana_bin\\nfrom opcion_europea_bs import opcion_europea_bs'"
            ]
          },
          "metadata": {},
          "execution_count": 6
        }
      ]
    },
    {
      "cell_type": "code",
      "metadata": {
        "id": "4efOhFQCxJyV"
      },
      "source": [
        "def getBookSummaryAll(sym, kind):\n",
        "    url = 'https://deribit.com/api/v2/public/get_book_summary_by_currency'\n",
        "    p = {'currency': sym, 'kind': kind}\n",
        "    r = requests.get(url, params=p)\n",
        "    js = r.json()['result']\n",
        "    df = pd.DataFrame(js)\n",
        "    return df"
      ],
      "execution_count": null,
      "outputs": []
    },
    {
      "cell_type": "code",
      "metadata": {
        "id": "FRZUIWo3xJyV",
        "colab": {
          "base_uri": "https://localhost:8080/",
          "height": 661
        },
        "outputId": "13ec2215-a013-4a5b-9f58-d4abe9bd1f1f"
      },
      "source": [
        "data = getBookSummaryAll('BTC', 'option')\n",
        "data.loc[data.volume>0]"
      ],
      "execution_count": null,
      "outputs": [
        {
          "output_type": "execute_result",
          "data": {
            "text/html": [
              "\n",
              "  <div id=\"df-d7764a81-b79c-4bde-b2b6-aae2b8ebe97d\">\n",
              "    <div class=\"colab-df-container\">\n",
              "      <div>\n",
              "<style scoped>\n",
              "    .dataframe tbody tr th:only-of-type {\n",
              "        vertical-align: middle;\n",
              "    }\n",
              "\n",
              "    .dataframe tbody tr th {\n",
              "        vertical-align: top;\n",
              "    }\n",
              "\n",
              "    .dataframe thead th {\n",
              "        text-align: right;\n",
              "    }\n",
              "</style>\n",
              "<table border=\"1\" class=\"dataframe\">\n",
              "  <thead>\n",
              "    <tr style=\"text-align: right;\">\n",
              "      <th></th>\n",
              "      <th>volume</th>\n",
              "      <th>underlying_price</th>\n",
              "      <th>underlying_index</th>\n",
              "      <th>quote_currency</th>\n",
              "      <th>price_change</th>\n",
              "      <th>open_interest</th>\n",
              "      <th>mid_price</th>\n",
              "      <th>mark_price</th>\n",
              "      <th>low</th>\n",
              "      <th>last</th>\n",
              "      <th>interest_rate</th>\n",
              "      <th>instrument_name</th>\n",
              "      <th>high</th>\n",
              "      <th>estimated_delivery_price</th>\n",
              "      <th>creation_timestamp</th>\n",
              "      <th>bid_price</th>\n",
              "      <th>base_currency</th>\n",
              "      <th>ask_price</th>\n",
              "    </tr>\n",
              "  </thead>\n",
              "  <tbody>\n",
              "    <tr>\n",
              "      <th>1</th>\n",
              "      <td>311.9</td>\n",
              "      <td>46926.232578</td>\n",
              "      <td>SYN.BTC-22DEC21</td>\n",
              "      <td>BTC</td>\n",
              "      <td>-46.6667</td>\n",
              "      <td>220.7</td>\n",
              "      <td>0.00450</td>\n",
              "      <td>0.004504</td>\n",
              "      <td>0.0040</td>\n",
              "      <td>0.0040</td>\n",
              "      <td>0.0</td>\n",
              "      <td>BTC-22DEC21-45000-P</td>\n",
              "      <td>0.0115</td>\n",
              "      <td>46914.54</td>\n",
              "      <td>1640041056047</td>\n",
              "      <td>0.0040</td>\n",
              "      <td>BTC</td>\n",
              "      <td>0.0050</td>\n",
              "    </tr>\n",
              "    <tr>\n",
              "      <th>2</th>\n",
              "      <td>39.1</td>\n",
              "      <td>47044.600000</td>\n",
              "      <td>BTC-31DEC21</td>\n",
              "      <td>BTC</td>\n",
              "      <td>-13.6364</td>\n",
              "      <td>92.5</td>\n",
              "      <td>0.00850</td>\n",
              "      <td>0.008476</td>\n",
              "      <td>0.0070</td>\n",
              "      <td>0.0095</td>\n",
              "      <td>0.0</td>\n",
              "      <td>BTC-31DEC21-55000-C</td>\n",
              "      <td>0.0110</td>\n",
              "      <td>46914.54</td>\n",
              "      <td>1640041056047</td>\n",
              "      <td>0.0080</td>\n",
              "      <td>BTC</td>\n",
              "      <td>0.0090</td>\n",
              "    </tr>\n",
              "    <tr>\n",
              "      <th>3</th>\n",
              "      <td>50.3</td>\n",
              "      <td>47253.330000</td>\n",
              "      <td>BTC-28JAN22</td>\n",
              "      <td>BTC</td>\n",
              "      <td>6.7961</td>\n",
              "      <td>1185.7</td>\n",
              "      <td>0.05100</td>\n",
              "      <td>0.051084</td>\n",
              "      <td>0.0455</td>\n",
              "      <td>0.0550</td>\n",
              "      <td>0.0</td>\n",
              "      <td>BTC-28JAN22-55000-C</td>\n",
              "      <td>0.0550</td>\n",
              "      <td>46914.54</td>\n",
              "      <td>1640041056047</td>\n",
              "      <td>0.0505</td>\n",
              "      <td>BTC</td>\n",
              "      <td>0.0515</td>\n",
              "    </tr>\n",
              "    <tr>\n",
              "      <th>5</th>\n",
              "      <td>1.4</td>\n",
              "      <td>47253.330000</td>\n",
              "      <td>BTC-28JAN22</td>\n",
              "      <td>BTC</td>\n",
              "      <td>8.3916</td>\n",
              "      <td>1902.5</td>\n",
              "      <td>0.14075</td>\n",
              "      <td>0.141311</td>\n",
              "      <td>0.1430</td>\n",
              "      <td>0.1550</td>\n",
              "      <td>0.0</td>\n",
              "      <td>BTC-28JAN22-50000-P</td>\n",
              "      <td>0.1550</td>\n",
              "      <td>46914.54</td>\n",
              "      <td>1640041056047</td>\n",
              "      <td>0.1395</td>\n",
              "      <td>BTC</td>\n",
              "      <td>0.1420</td>\n",
              "    </tr>\n",
              "    <tr>\n",
              "      <th>7</th>\n",
              "      <td>0.5</td>\n",
              "      <td>49814.920000</td>\n",
              "      <td>BTC-30SEP22</td>\n",
              "      <td>BTC</td>\n",
              "      <td>0.0000</td>\n",
              "      <td>381.0</td>\n",
              "      <td>0.15600</td>\n",
              "      <td>0.156035</td>\n",
              "      <td>0.1505</td>\n",
              "      <td>0.1505</td>\n",
              "      <td>0.0</td>\n",
              "      <td>BTC-30SEP22-80000-C</td>\n",
              "      <td>0.1505</td>\n",
              "      <td>46914.54</td>\n",
              "      <td>1640041056047</td>\n",
              "      <td>0.1535</td>\n",
              "      <td>BTC</td>\n",
              "      <td>0.1585</td>\n",
              "    </tr>\n",
              "    <tr>\n",
              "      <th>...</th>\n",
              "      <td>...</td>\n",
              "      <td>...</td>\n",
              "      <td>...</td>\n",
              "      <td>...</td>\n",
              "      <td>...</td>\n",
              "      <td>...</td>\n",
              "      <td>...</td>\n",
              "      <td>...</td>\n",
              "      <td>...</td>\n",
              "      <td>...</td>\n",
              "      <td>...</td>\n",
              "      <td>...</td>\n",
              "      <td>...</td>\n",
              "      <td>...</td>\n",
              "      <td>...</td>\n",
              "      <td>...</td>\n",
              "      <td>...</td>\n",
              "      <td>...</td>\n",
              "    </tr>\n",
              "    <tr>\n",
              "      <th>446</th>\n",
              "      <td>13.5</td>\n",
              "      <td>47044.600000</td>\n",
              "      <td>BTC-31DEC21</td>\n",
              "      <td>BTC</td>\n",
              "      <td>0.0000</td>\n",
              "      <td>1788.2</td>\n",
              "      <td>NaN</td>\n",
              "      <td>0.000421</td>\n",
              "      <td>0.0005</td>\n",
              "      <td>0.0005</td>\n",
              "      <td>0.0</td>\n",
              "      <td>BTC-31DEC21-75000-C</td>\n",
              "      <td>0.0010</td>\n",
              "      <td>46914.54</td>\n",
              "      <td>1640041056055</td>\n",
              "      <td>NaN</td>\n",
              "      <td>BTC</td>\n",
              "      <td>0.0005</td>\n",
              "    </tr>\n",
              "    <tr>\n",
              "      <th>447</th>\n",
              "      <td>2.2</td>\n",
              "      <td>46917.673868</td>\n",
              "      <td>SYN.BTC-21DEC21</td>\n",
              "      <td>BTC</td>\n",
              "      <td>0.0000</td>\n",
              "      <td>20.2</td>\n",
              "      <td>NaN</td>\n",
              "      <td>0.000004</td>\n",
              "      <td>0.0005</td>\n",
              "      <td>0.0005</td>\n",
              "      <td>0.0</td>\n",
              "      <td>BTC-21DEC21-51000-C</td>\n",
              "      <td>0.0005</td>\n",
              "      <td>46914.54</td>\n",
              "      <td>1640041056055</td>\n",
              "      <td>NaN</td>\n",
              "      <td>BTC</td>\n",
              "      <td>0.0005</td>\n",
              "    </tr>\n",
              "    <tr>\n",
              "      <th>449</th>\n",
              "      <td>57.0</td>\n",
              "      <td>47836.990000</td>\n",
              "      <td>BTC-25MAR22</td>\n",
              "      <td>BTC</td>\n",
              "      <td>-1.7647</td>\n",
              "      <td>3209.2</td>\n",
              "      <td>0.01625</td>\n",
              "      <td>0.016348</td>\n",
              "      <td>0.0155</td>\n",
              "      <td>0.0167</td>\n",
              "      <td>0.0</td>\n",
              "      <td>BTC-25MAR22-100000-C</td>\n",
              "      <td>0.0170</td>\n",
              "      <td>46914.54</td>\n",
              "      <td>1640041056055</td>\n",
              "      <td>0.0160</td>\n",
              "      <td>BTC</td>\n",
              "      <td>0.0165</td>\n",
              "    </tr>\n",
              "    <tr>\n",
              "      <th>452</th>\n",
              "      <td>26.3</td>\n",
              "      <td>47044.600000</td>\n",
              "      <td>BTC-31DEC21</td>\n",
              "      <td>BTC</td>\n",
              "      <td>-12.2353</td>\n",
              "      <td>1206.0</td>\n",
              "      <td>0.09050</td>\n",
              "      <td>0.090035</td>\n",
              "      <td>0.0746</td>\n",
              "      <td>0.0746</td>\n",
              "      <td>0.0</td>\n",
              "      <td>BTC-31DEC21-44000-C</td>\n",
              "      <td>0.0850</td>\n",
              "      <td>46914.54</td>\n",
              "      <td>1640041056055</td>\n",
              "      <td>0.0870</td>\n",
              "      <td>BTC</td>\n",
              "      <td>0.0940</td>\n",
              "    </tr>\n",
              "    <tr>\n",
              "      <th>455</th>\n",
              "      <td>3.2</td>\n",
              "      <td>47836.990000</td>\n",
              "      <td>BTC-25MAR22</td>\n",
              "      <td>BTC</td>\n",
              "      <td>0.0000</td>\n",
              "      <td>199.6</td>\n",
              "      <td>0.00900</td>\n",
              "      <td>0.008993</td>\n",
              "      <td>0.0090</td>\n",
              "      <td>0.0090</td>\n",
              "      <td>0.0</td>\n",
              "      <td>BTC-25MAR22-22000-P</td>\n",
              "      <td>0.0090</td>\n",
              "      <td>46914.54</td>\n",
              "      <td>1640041056055</td>\n",
              "      <td>0.0085</td>\n",
              "      <td>BTC</td>\n",
              "      <td>0.0095</td>\n",
              "    </tr>\n",
              "  </tbody>\n",
              "</table>\n",
              "<p>228 rows × 18 columns</p>\n",
              "</div>\n",
              "      <button class=\"colab-df-convert\" onclick=\"convertToInteractive('df-d7764a81-b79c-4bde-b2b6-aae2b8ebe97d')\"\n",
              "              title=\"Convert this dataframe to an interactive table.\"\n",
              "              style=\"display:none;\">\n",
              "        \n",
              "  <svg xmlns=\"http://www.w3.org/2000/svg\" height=\"24px\"viewBox=\"0 0 24 24\"\n",
              "       width=\"24px\">\n",
              "    <path d=\"M0 0h24v24H0V0z\" fill=\"none\"/>\n",
              "    <path d=\"M18.56 5.44l.94 2.06.94-2.06 2.06-.94-2.06-.94-.94-2.06-.94 2.06-2.06.94zm-11 1L8.5 8.5l.94-2.06 2.06-.94-2.06-.94L8.5 2.5l-.94 2.06-2.06.94zm10 10l.94 2.06.94-2.06 2.06-.94-2.06-.94-.94-2.06-.94 2.06-2.06.94z\"/><path d=\"M17.41 7.96l-1.37-1.37c-.4-.4-.92-.59-1.43-.59-.52 0-1.04.2-1.43.59L10.3 9.45l-7.72 7.72c-.78.78-.78 2.05 0 2.83L4 21.41c.39.39.9.59 1.41.59.51 0 1.02-.2 1.41-.59l7.78-7.78 2.81-2.81c.8-.78.8-2.07 0-2.86zM5.41 20L4 18.59l7.72-7.72 1.47 1.35L5.41 20z\"/>\n",
              "  </svg>\n",
              "      </button>\n",
              "      \n",
              "  <style>\n",
              "    .colab-df-container {\n",
              "      display:flex;\n",
              "      flex-wrap:wrap;\n",
              "      gap: 12px;\n",
              "    }\n",
              "\n",
              "    .colab-df-convert {\n",
              "      background-color: #E8F0FE;\n",
              "      border: none;\n",
              "      border-radius: 50%;\n",
              "      cursor: pointer;\n",
              "      display: none;\n",
              "      fill: #1967D2;\n",
              "      height: 32px;\n",
              "      padding: 0 0 0 0;\n",
              "      width: 32px;\n",
              "    }\n",
              "\n",
              "    .colab-df-convert:hover {\n",
              "      background-color: #E2EBFA;\n",
              "      box-shadow: 0px 1px 2px rgba(60, 64, 67, 0.3), 0px 1px 3px 1px rgba(60, 64, 67, 0.15);\n",
              "      fill: #174EA6;\n",
              "    }\n",
              "\n",
              "    [theme=dark] .colab-df-convert {\n",
              "      background-color: #3B4455;\n",
              "      fill: #D2E3FC;\n",
              "    }\n",
              "\n",
              "    [theme=dark] .colab-df-convert:hover {\n",
              "      background-color: #434B5C;\n",
              "      box-shadow: 0px 1px 3px 1px rgba(0, 0, 0, 0.15);\n",
              "      filter: drop-shadow(0px 1px 2px rgba(0, 0, 0, 0.3));\n",
              "      fill: #FFFFFF;\n",
              "    }\n",
              "  </style>\n",
              "\n",
              "      <script>\n",
              "        const buttonEl =\n",
              "          document.querySelector('#df-d7764a81-b79c-4bde-b2b6-aae2b8ebe97d button.colab-df-convert');\n",
              "        buttonEl.style.display =\n",
              "          google.colab.kernel.accessAllowed ? 'block' : 'none';\n",
              "\n",
              "        async function convertToInteractive(key) {\n",
              "          const element = document.querySelector('#df-d7764a81-b79c-4bde-b2b6-aae2b8ebe97d');\n",
              "          const dataTable =\n",
              "            await google.colab.kernel.invokeFunction('convertToInteractive',\n",
              "                                                     [key], {});\n",
              "          if (!dataTable) return;\n",
              "\n",
              "          const docLinkHtml = 'Like what you see? Visit the ' +\n",
              "            '<a target=\"_blank\" href=https://colab.research.google.com/notebooks/data_table.ipynb>data table notebook</a>'\n",
              "            + ' to learn more about interactive tables.';\n",
              "          element.innerHTML = '';\n",
              "          dataTable['output_type'] = 'display_data';\n",
              "          await google.colab.output.renderOutput(dataTable, element);\n",
              "          const docLink = document.createElement('div');\n",
              "          docLink.innerHTML = docLinkHtml;\n",
              "          element.appendChild(docLink);\n",
              "        }\n",
              "      </script>\n",
              "    </div>\n",
              "  </div>\n",
              "  "
            ],
            "text/plain": [
              "     volume  underlying_price  ... base_currency ask_price\n",
              "1     311.9      46926.232578  ...           BTC    0.0050\n",
              "2      39.1      47044.600000  ...           BTC    0.0090\n",
              "3      50.3      47253.330000  ...           BTC    0.0515\n",
              "5       1.4      47253.330000  ...           BTC    0.1420\n",
              "7       0.5      49814.920000  ...           BTC    0.1585\n",
              "..      ...               ...  ...           ...       ...\n",
              "446    13.5      47044.600000  ...           BTC    0.0005\n",
              "447     2.2      46917.673868  ...           BTC    0.0005\n",
              "449    57.0      47836.990000  ...           BTC    0.0165\n",
              "452    26.3      47044.600000  ...           BTC    0.0940\n",
              "455     3.2      47836.990000  ...           BTC    0.0095\n",
              "\n",
              "[228 rows x 18 columns]"
            ]
          },
          "metadata": {},
          "execution_count": 8
        }
      ]
    },
    {
      "cell_type": "code",
      "metadata": {
        "id": "7l9JXyE9xJyX",
        "colab": {
          "base_uri": "https://localhost:8080/",
          "height": 424
        },
        "outputId": "e0451d8f-e3d6-43d7-cb1b-66206e096881"
      },
      "source": [
        "panel_limpio = data[['instrument_name', 'underlying_price','volume', 'bid_price', 'ask_price', 'mid_price']]\n",
        "panel_limpio"
      ],
      "execution_count": null,
      "outputs": [
        {
          "output_type": "execute_result",
          "data": {
            "text/html": [
              "\n",
              "  <div id=\"df-c1400602-70ae-48fa-a6dd-6e2076085fdf\">\n",
              "    <div class=\"colab-df-container\">\n",
              "      <div>\n",
              "<style scoped>\n",
              "    .dataframe tbody tr th:only-of-type {\n",
              "        vertical-align: middle;\n",
              "    }\n",
              "\n",
              "    .dataframe tbody tr th {\n",
              "        vertical-align: top;\n",
              "    }\n",
              "\n",
              "    .dataframe thead th {\n",
              "        text-align: right;\n",
              "    }\n",
              "</style>\n",
              "<table border=\"1\" class=\"dataframe\">\n",
              "  <thead>\n",
              "    <tr style=\"text-align: right;\">\n",
              "      <th></th>\n",
              "      <th>instrument_name</th>\n",
              "      <th>underlying_price</th>\n",
              "      <th>volume</th>\n",
              "      <th>bid_price</th>\n",
              "      <th>ask_price</th>\n",
              "      <th>mid_price</th>\n",
              "    </tr>\n",
              "  </thead>\n",
              "  <tbody>\n",
              "    <tr>\n",
              "      <th>0</th>\n",
              "      <td>BTC-21DEC21-53000-P</td>\n",
              "      <td>46917.673868</td>\n",
              "      <td>0.0</td>\n",
              "      <td>NaN</td>\n",
              "      <td>NaN</td>\n",
              "      <td>NaN</td>\n",
              "    </tr>\n",
              "    <tr>\n",
              "      <th>1</th>\n",
              "      <td>BTC-22DEC21-45000-P</td>\n",
              "      <td>46926.232578</td>\n",
              "      <td>311.9</td>\n",
              "      <td>0.0040</td>\n",
              "      <td>0.0050</td>\n",
              "      <td>0.0045</td>\n",
              "    </tr>\n",
              "    <tr>\n",
              "      <th>2</th>\n",
              "      <td>BTC-31DEC21-55000-C</td>\n",
              "      <td>47044.600000</td>\n",
              "      <td>39.1</td>\n",
              "      <td>0.0080</td>\n",
              "      <td>0.0090</td>\n",
              "      <td>0.0085</td>\n",
              "    </tr>\n",
              "    <tr>\n",
              "      <th>3</th>\n",
              "      <td>BTC-28JAN22-55000-C</td>\n",
              "      <td>47253.330000</td>\n",
              "      <td>50.3</td>\n",
              "      <td>0.0505</td>\n",
              "      <td>0.0515</td>\n",
              "      <td>0.0510</td>\n",
              "    </tr>\n",
              "    <tr>\n",
              "      <th>4</th>\n",
              "      <td>BTC-24JUN22-30000-C</td>\n",
              "      <td>48606.490000</td>\n",
              "      <td>0.0</td>\n",
              "      <td>0.4260</td>\n",
              "      <td>0.4580</td>\n",
              "      <td>0.4420</td>\n",
              "    </tr>\n",
              "    <tr>\n",
              "      <th>...</th>\n",
              "      <td>...</td>\n",
              "      <td>...</td>\n",
              "      <td>...</td>\n",
              "      <td>...</td>\n",
              "      <td>...</td>\n",
              "      <td>...</td>\n",
              "    </tr>\n",
              "    <tr>\n",
              "      <th>451</th>\n",
              "      <td>BTC-24DEC21-58000-P</td>\n",
              "      <td>46943.390000</td>\n",
              "      <td>0.0</td>\n",
              "      <td>0.0800</td>\n",
              "      <td>NaN</td>\n",
              "      <td>NaN</td>\n",
              "    </tr>\n",
              "    <tr>\n",
              "      <th>452</th>\n",
              "      <td>BTC-31DEC21-44000-C</td>\n",
              "      <td>47044.600000</td>\n",
              "      <td>26.3</td>\n",
              "      <td>0.0870</td>\n",
              "      <td>0.0940</td>\n",
              "      <td>0.0905</td>\n",
              "    </tr>\n",
              "    <tr>\n",
              "      <th>453</th>\n",
              "      <td>BTC-28JAN22-70000-P</td>\n",
              "      <td>47253.420000</td>\n",
              "      <td>0.0</td>\n",
              "      <td>0.2000</td>\n",
              "      <td>NaN</td>\n",
              "      <td>NaN</td>\n",
              "    </tr>\n",
              "    <tr>\n",
              "      <th>454</th>\n",
              "      <td>BTC-24DEC21-40000-C</td>\n",
              "      <td>46943.480000</td>\n",
              "      <td>0.0</td>\n",
              "      <td>0.0070</td>\n",
              "      <td>NaN</td>\n",
              "      <td>NaN</td>\n",
              "    </tr>\n",
              "    <tr>\n",
              "      <th>455</th>\n",
              "      <td>BTC-25MAR22-22000-P</td>\n",
              "      <td>47836.990000</td>\n",
              "      <td>3.2</td>\n",
              "      <td>0.0085</td>\n",
              "      <td>0.0095</td>\n",
              "      <td>0.0090</td>\n",
              "    </tr>\n",
              "  </tbody>\n",
              "</table>\n",
              "<p>456 rows × 6 columns</p>\n",
              "</div>\n",
              "      <button class=\"colab-df-convert\" onclick=\"convertToInteractive('df-c1400602-70ae-48fa-a6dd-6e2076085fdf')\"\n",
              "              title=\"Convert this dataframe to an interactive table.\"\n",
              "              style=\"display:none;\">\n",
              "        \n",
              "  <svg xmlns=\"http://www.w3.org/2000/svg\" height=\"24px\"viewBox=\"0 0 24 24\"\n",
              "       width=\"24px\">\n",
              "    <path d=\"M0 0h24v24H0V0z\" fill=\"none\"/>\n",
              "    <path d=\"M18.56 5.44l.94 2.06.94-2.06 2.06-.94-2.06-.94-.94-2.06-.94 2.06-2.06.94zm-11 1L8.5 8.5l.94-2.06 2.06-.94-2.06-.94L8.5 2.5l-.94 2.06-2.06.94zm10 10l.94 2.06.94-2.06 2.06-.94-2.06-.94-.94-2.06-.94 2.06-2.06.94z\"/><path d=\"M17.41 7.96l-1.37-1.37c-.4-.4-.92-.59-1.43-.59-.52 0-1.04.2-1.43.59L10.3 9.45l-7.72 7.72c-.78.78-.78 2.05 0 2.83L4 21.41c.39.39.9.59 1.41.59.51 0 1.02-.2 1.41-.59l7.78-7.78 2.81-2.81c.8-.78.8-2.07 0-2.86zM5.41 20L4 18.59l7.72-7.72 1.47 1.35L5.41 20z\"/>\n",
              "  </svg>\n",
              "      </button>\n",
              "      \n",
              "  <style>\n",
              "    .colab-df-container {\n",
              "      display:flex;\n",
              "      flex-wrap:wrap;\n",
              "      gap: 12px;\n",
              "    }\n",
              "\n",
              "    .colab-df-convert {\n",
              "      background-color: #E8F0FE;\n",
              "      border: none;\n",
              "      border-radius: 50%;\n",
              "      cursor: pointer;\n",
              "      display: none;\n",
              "      fill: #1967D2;\n",
              "      height: 32px;\n",
              "      padding: 0 0 0 0;\n",
              "      width: 32px;\n",
              "    }\n",
              "\n",
              "    .colab-df-convert:hover {\n",
              "      background-color: #E2EBFA;\n",
              "      box-shadow: 0px 1px 2px rgba(60, 64, 67, 0.3), 0px 1px 3px 1px rgba(60, 64, 67, 0.15);\n",
              "      fill: #174EA6;\n",
              "    }\n",
              "\n",
              "    [theme=dark] .colab-df-convert {\n",
              "      background-color: #3B4455;\n",
              "      fill: #D2E3FC;\n",
              "    }\n",
              "\n",
              "    [theme=dark] .colab-df-convert:hover {\n",
              "      background-color: #434B5C;\n",
              "      box-shadow: 0px 1px 3px 1px rgba(0, 0, 0, 0.15);\n",
              "      filter: drop-shadow(0px 1px 2px rgba(0, 0, 0, 0.3));\n",
              "      fill: #FFFFFF;\n",
              "    }\n",
              "  </style>\n",
              "\n",
              "      <script>\n",
              "        const buttonEl =\n",
              "          document.querySelector('#df-c1400602-70ae-48fa-a6dd-6e2076085fdf button.colab-df-convert');\n",
              "        buttonEl.style.display =\n",
              "          google.colab.kernel.accessAllowed ? 'block' : 'none';\n",
              "\n",
              "        async function convertToInteractive(key) {\n",
              "          const element = document.querySelector('#df-c1400602-70ae-48fa-a6dd-6e2076085fdf');\n",
              "          const dataTable =\n",
              "            await google.colab.kernel.invokeFunction('convertToInteractive',\n",
              "                                                     [key], {});\n",
              "          if (!dataTable) return;\n",
              "\n",
              "          const docLinkHtml = 'Like what you see? Visit the ' +\n",
              "            '<a target=\"_blank\" href=https://colab.research.google.com/notebooks/data_table.ipynb>data table notebook</a>'\n",
              "            + ' to learn more about interactive tables.';\n",
              "          element.innerHTML = '';\n",
              "          dataTable['output_type'] = 'display_data';\n",
              "          await google.colab.output.renderOutput(dataTable, element);\n",
              "          const docLink = document.createElement('div');\n",
              "          docLink.innerHTML = docLinkHtml;\n",
              "          element.appendChild(docLink);\n",
              "        }\n",
              "      </script>\n",
              "    </div>\n",
              "  </div>\n",
              "  "
            ],
            "text/plain": [
              "         instrument_name  underlying_price  ...  ask_price  mid_price\n",
              "0    BTC-21DEC21-53000-P      46917.673868  ...        NaN        NaN\n",
              "1    BTC-22DEC21-45000-P      46926.232578  ...     0.0050     0.0045\n",
              "2    BTC-31DEC21-55000-C      47044.600000  ...     0.0090     0.0085\n",
              "3    BTC-28JAN22-55000-C      47253.330000  ...     0.0515     0.0510\n",
              "4    BTC-24JUN22-30000-C      48606.490000  ...     0.4580     0.4420\n",
              "..                   ...               ...  ...        ...        ...\n",
              "451  BTC-24DEC21-58000-P      46943.390000  ...        NaN        NaN\n",
              "452  BTC-31DEC21-44000-C      47044.600000  ...     0.0940     0.0905\n",
              "453  BTC-28JAN22-70000-P      47253.420000  ...        NaN        NaN\n",
              "454  BTC-24DEC21-40000-C      46943.480000  ...        NaN        NaN\n",
              "455  BTC-25MAR22-22000-P      47836.990000  ...     0.0095     0.0090\n",
              "\n",
              "[456 rows x 6 columns]"
            ]
          },
          "metadata": {},
          "execution_count": 9
        }
      ]
    },
    {
      "cell_type": "code",
      "metadata": {
        "id": "knxBKqfYxJyX"
      },
      "source": [
        "\n",
        "Fechas=[]\n",
        "Rango=[]\n",
        "Dias=[]\n"
      ],
      "execution_count": null,
      "outputs": []
    },
    {
      "cell_type": "code",
      "metadata": {
        "id": "GJ8cAkw-xJyY"
      },
      "source": [
        "def monthToNum(shortMonth):\n",
        "    return {\n",
        "            'jan': 1,\n",
        "            'feb': 2,\n",
        "            'mar': 3,\n",
        "            'apr': 4,\n",
        "            'may': 5,\n",
        "            'jun': 6,\n",
        "            'jul': 7,\n",
        "            'aug': 8,\n",
        "            'sep': 9, \n",
        "            'oct': 10,\n",
        "            'nov': 11,\n",
        "            'dec': 12\n",
        "    }[shortMonth]"
      ],
      "execution_count": null,
      "outputs": []
    },
    {
      "cell_type": "code",
      "metadata": {
        "id": "JeZlsjJ1xJyY"
      },
      "source": [
        "for i in range(11):\n",
        "\tRango.append(str(i))"
      ],
      "execution_count": null,
      "outputs": []
    },
    {
      "cell_type": "code",
      "metadata": {
        "id": "7Rqiit3PxJyY"
      },
      "source": [
        "j=[]\n",
        "for i in range(len(panel_limpio['instrument_name'])):\n",
        "  try:\n",
        "    if int(data['instrument_name'][i][5:6]) in range(10):    \n",
        "        \n",
        "        Fechas.append(datetime(day=int(data['instrument_name'][i][4:6]),month=int(monthToNum(data['instrument_name'][i][6:9].lower())),year=int(\"20\"+data['instrument_name'][i][9:11])))\n",
        "        \n",
        "        Dias.append((Fechas[i]-datetime.today()).days+1)\n",
        "  except:\n",
        "        Fechas.append(datetime(day=int(data['instrument_name'][i][4:5]),month=int(monthToNum(data['instrument_name'][i][5:8].lower())),year=int(\"20\"+data['instrument_name'][i][8:10])))\n",
        "        j.append(i)\n",
        "        Dias.append((Fechas[i]-datetime.today()).days+1)\n",
        "        continue\n",
        "panel_limpio.insert(0, \"Fecha_VTO\",Fechas)\n",
        "panel_limpio.insert(1, \"Dias_al_VTO\",Dias)\n"
      ],
      "execution_count": null,
      "outputs": []
    },
    {
      "cell_type": "code",
      "source": [
        ""
      ],
      "metadata": {
        "id": "DEb0glOh3BUx"
      },
      "execution_count": null,
      "outputs": []
    },
    {
      "cell_type": "code",
      "source": [
        "strike=[]\n",
        "tipo=[]\n",
        "for i in range(len(panel_limpio['instrument_name'])):\n",
        "          try:\n",
        "              if int(data['instrument_name'][i][5:6]) in range(10):\n",
        "                              strike.append(int(panel_limpio['instrument_name'][i][12:17]))\n",
        "                              tipo.append(panel_limpio['instrument_name'][i][-1])\n",
        "          except:\n",
        "            strike.append(int(panel_limpio['instrument_name'][i][11:16]))\n",
        "            tipo.append(panel_limpio['instrument_name'][i][-1])\n",
        "          \n",
        "\n",
        "panel_limpio.insert(2, \"Strike\",strike)\n",
        "panel_limpio.insert(3, \"Tipo\",tipo)\n",
        "print(panel_limpio)"
      ],
      "metadata": {
        "colab": {
          "base_uri": "https://localhost:8080/"
        },
        "id": "4E3_73Sjv9n7",
        "outputId": "c4c0725e-810f-4d8d-adee-870fafd03279"
      },
      "execution_count": null,
      "outputs": [
        {
          "output_type": "stream",
          "name": "stdout",
          "text": [
            "     Fecha_VTO  Dias_al_VTO  Strike  ... bid_price ask_price  mid_price\n",
            "0   2021-12-21            1   53000  ...       NaN       NaN        NaN\n",
            "1   2021-12-22            2   45000  ...    0.0040    0.0050     0.0045\n",
            "2   2021-12-31           11   55000  ...    0.0080    0.0090     0.0085\n",
            "3   2022-01-28           39   55000  ...    0.0505    0.0515     0.0510\n",
            "4   2022-06-24          186   30000  ...    0.4260    0.4580     0.4420\n",
            "..         ...          ...     ...  ...       ...       ...        ...\n",
            "451 2021-12-24            4   58000  ...    0.0800       NaN        NaN\n",
            "452 2021-12-31           11   44000  ...    0.0870    0.0940     0.0905\n",
            "453 2022-01-28           39   70000  ...    0.2000       NaN        NaN\n",
            "454 2021-12-24            4   40000  ...    0.0070       NaN        NaN\n",
            "455 2022-03-25           95   22000  ...    0.0085    0.0095     0.0090\n",
            "\n",
            "[456 rows x 10 columns]\n"
          ]
        }
      ]
    },
    {
      "cell_type": "code",
      "source": [
        "fechas=[]\n",
        "for i in range(len(panel_limpio['Fecha_VTO'])):\n",
        "              if Fechas[i].day==1:\n",
        "                  fechas.append(\"0\"+str(Fechas[i].day)+\"/\"+str(Fechas[i].month)+\"/\"+str(Fechas[i].year))\n",
        "              else:\n",
        "                fechas.append(str(Fechas[i].day)+\"/\"+str(Fechas[i].month)+\"/\"+str(Fechas[i].year))\n",
        "\n",
        "\n",
        "fechas=list(set(fechas))\n",
        "strike=list(set(strike))\n",
        "strike.sort()\n",
        "print(fechas,strike)\n",
        "Dias1=[]\n",
        "for i in panel_limpio.Dias_al_VTO:\n",
        "  Dias1.append(i)\n",
        "Dias1=list(set(Dias1))  \n",
        "\n",
        "\n"
      ],
      "metadata": {
        "id": "S5avE6VFrT7s",
        "colab": {
          "base_uri": "https://localhost:8080/"
        },
        "outputId": "ce41ed61-8b90-4da2-d771-fd1adc43548a"
      },
      "execution_count": null,
      "outputs": [
        {
          "output_type": "stream",
          "name": "stdout",
          "text": [
            "['24/6/2022', '7/1/2022', '21/12/2021', '25/3/2022', '31/12/2021', '25/2/2022', '24/12/2021', '30/9/2022', '28/1/2022', '22/12/2021'] [10000, 11000, 12000, 14000, 15000, 16000, 18000, 20000, 22000, 24000, 25000, 26000, 28000, 30000, 32000, 34000, 35000, 36000, 38000, 40000, 41000, 42000, 43000, 44000, 45000, 46000, 47000, 48000, 49000, 50000, 51000, 52000, 53000, 54000, 55000, 56000, 58000, 60000, 62000, 64000, 65000, 66000, 68000, 70000, 75000, 80000, 85000, 90000, 95000]\n"
          ]
        }
      ]
    },
    {
      "cell_type": "code",
      "source": [
        "#print(panel_limpio.loc[[4]])\n",
        "#panel_limpio.Strike[panel_limpio.Strike == 50000].index.tolist()\n",
        "\n",
        "Dias2=panel_limpio.Dias_al_VTO[panel_limpio.Dias_al_VTO == 11].index.tolist()  \n",
        "Strikes= panel_limpio.Strike[panel_limpio.Strike == 46000].index.tolist()\n",
        "tipo2= panel_limpio.Tipo[panel_limpio.Tipo == \"C\"].index.tolist()\n",
        "a=set(Dias2) & set(Strikes)\n",
        "print(a)#Esta listo para borrar creo"
      ],
      "metadata": {
        "colab": {
          "base_uri": "https://localhost:8080/"
        },
        "id": "9S3kpBc08JHe",
        "outputId": "cff75e4f-ea66-421e-d081-b548c44a1213"
      },
      "execution_count": null,
      "outputs": [
        {
          "output_type": "stream",
          "name": "stdout",
          "text": [
            "{357, 181}\n"
          ]
        }
      ]
    },
    {
      "cell_type": "code",
      "metadata": {
        "id": "vgCI9Nar5l7j"
      },
      "source": [
        "def getprice(currency):\n",
        "    url = 'https://deribit.com/api/v2/public/get_index_price'\n",
        "    p = {'index_name': currency}\n",
        "    r = requests.get(url, params=p)\n",
        "    js = r.json()['result']\n",
        "\n",
        "    return js\n",
        "\n"
      ],
      "execution_count": null,
      "outputs": []
    },
    {
      "cell_type": "code",
      "metadata": {
        "id": "tJTFwjuMxJyZ"
      },
      "source": [
        "def getHistoricalVol(currency):\n",
        "    url = 'https://deribit.com/api/v2/public/get_historical_volatility'\n",
        "    p = {'currency': currency}\n",
        "    r = requests.get(url, params=p)\n",
        "    js = r.json()['result']\n",
        "    df = pd.DataFrame(js).transpose()\n",
        "    df = df.transpose()\n",
        "    df.columns = ['timestamp', 'volatility']\n",
        "    df['date'] = pd.to_datetime(df.timestamp, unit='ms')\n",
        "    df.set_index('date', inplace=True)\n",
        "    return df"
      ],
      "execution_count": null,
      "outputs": []
    },
    {
      "cell_type": "code",
      "metadata": {
        "id": "u5J-vWXyxJya",
        "colab": {
          "base_uri": "https://localhost:8080/",
          "height": 302
        },
        "outputId": "24f812e0-87b0-4892-e663-00ca6c0a2cbd"
      },
      "source": [
        "volatility = getHistoricalVol('BTC')\n",
        "volatility.head(100)\n",
        "volatility.volatility.plot()\n",
        "print(volatility.volatility[-1])\n"
      ],
      "execution_count": null,
      "outputs": [
        {
          "output_type": "stream",
          "name": "stdout",
          "text": [
            "66.23033147990668\n"
          ]
        },
        {
          "output_type": "display_data",
          "data": {
            "image/png": "[encoded data removed]",
            "text/plain": [
              "<Figure size 432x288 with 1 Axes>"
            ]
          },
          "metadata": {
            "needs_background": "light"
          }
        }
      ]
    },
    {
      "cell_type": "code",
      "metadata": {
        "id": "bjlgVZK0W_cD"
      },
      "source": [
        "\n",
        "def Volatilidad(dias=365,crypto=\"BTC\",Utilidad=\"V\"):\n",
        "                  stock_symbol = crypto+\"-USD\"\n",
        "                  end_time = date.today()\n",
        "                  start_time = end_time - timedelta(days=dias)\n",
        "                  end = end_time.strftime('%Y-%m-%d')\n",
        "                  start = start_time.strftime('%Y-%m-%d')\n",
        "                  json_prices = YahooFinancials(stock_symbol\n",
        "                      ).get_historical_price_data(start, end, 'daily')\n",
        "                  # transform json file to dataframe\n",
        "                  prices = pd.DataFrame(json_prices[stock_symbol]\n",
        "                      ['prices'])[['formatted_date', 'close']]\n",
        "                  # sort dates in descending order\n",
        "                  prices.sort_index(ascending=False, inplace=True)\n",
        "                  # calculate daily logarithmic return\n",
        "                  prices['returns'] = (np.log(prices.close /\n",
        "                      prices.close.shift(-1)))\n",
        "                  # calculate daily standard deviation of returns\n",
        "                  daily_std = np.std(prices.returns)\n",
        "                  std = daily_std * 252 ** 0.5\n",
        "                  if Utilidad ==\"P\":\n",
        "                          # Plot histograms\n",
        "                          fig, ax = plt.subplots(1, 1, figsize=(7, 5))\n",
        "                          n, bins, patches = ax.hist(\n",
        "                              prices.returns.values,\n",
        "                              bins=50, alpha=0.65, color='blue')\n",
        "                          ax.set_xlabel('log return of stock price')\n",
        "                          ax.set_ylabel('frequency of log return')\n",
        "                          ax.set_title('Historical Volatility for ' +\n",
        "                              stock_symbol)\n",
        "\n",
        "                          # get x and y coordinate limits\n",
        "                          x_corr = ax.get_xlim()\n",
        "                          y_corr = ax.get_ylim()\n",
        "\n",
        "                          # make room for text\n",
        "                          header = y_corr[1] / 5\n",
        "                          y_corr = (y_corr[0], y_corr[1] + header)\n",
        "                          ax.set_ylim(y_corr[0], y_corr[1])\n",
        "\n",
        "                          # print historical volatility on plot\n",
        "                          x = x_corr[0] + (x_corr[1] - x_corr[0]) / 30\n",
        "                          y = y_corr[1] - (y_corr[1] - y_corr[0]) / 15\n",
        "                          ax.text(x, y , 'Annualized Volatility: ' + str(np.round(std*100, 1))+'%',\n",
        "                              fontsize=11, fontweight='bold')\n",
        "                          x = x_corr[0] + (x_corr[1] - x_corr[0]) / 15\n",
        "                          y -= (y_corr[1] - y_corr[0]) / 20\n",
        "\n",
        "                          # save histogram plot of historical price volatility\n",
        "                          fig.tight_layout()\n",
        "                          fig.savefig('historical volatility.png')\n",
        "                  else:\n",
        "                          return(std)"
      ],
      "execution_count": null,
      "outputs": []
    },
    {
      "cell_type": "code",
      "metadata": {
        "id": "HnISwxBVZkMp",
        "colab": {
          "base_uri": "https://localhost:8080/",
          "height": 369
        },
        "outputId": "be5919b3-2a11-41ba-8a60-56cda7ba7506"
      },
      "source": [
        "Volatilidad(crypto=\"BTC\",Utilidad=\"P\")"
      ],
      "execution_count": null,
      "outputs": [
        {
          "output_type": "display_data",
          "data": {
            "image/png": "[encoded data removed]",
            "text/plain": [
              "<Figure size 504x360 with 1 Axes>"
            ]
          },
          "metadata": {
            "needs_background": "light"
          }
        }
      ]
    },
    {
      "cell_type": "markdown",
      "metadata": {
        "id": "5YjBfnWZxJyd"
      },
      "source": [
        "#Black Scholes"
      ]
    },
    {
      "cell_type": "code",
      "metadata": {
        "id": "XLPbIz9TxJyf"
      },
      "source": [
        "class Black:\n",
        "  \n",
        "  delta=[]\n",
        "  k=[]\n",
        "  i=[]\n",
        "  CalloPut=1\n",
        "  vto=[]\n",
        "  volatilidad=[0.1]\n",
        "  tipo=[\"Call\"]\n",
        "  def BSM(k=0,i=0,vto=0, CalloPut=1, utilidad=\"BS\"):   \n",
        "          import datetime\n",
        "          if k ==0:\n",
        "              precio_ejercicio =int(input(\"Introducir precio de ejercicio\"))\n",
        "          else:\n",
        "              precio_ejercicio =k\n",
        "          if i ==0:\n",
        "            tasa_interes = int(input(\"Introducir tasa de interes libre de riesgo (en valor enter ej 13)\"))/100\n",
        "          else:\n",
        "            tasa_interes = i\n",
        "          if vto ==0:\n",
        "            fecha_expiracion1 = input(\"Introducir fecha de vencimiento de la opcion (DD/MM/YYYY)\")\n",
        "          else:\n",
        "            fecha_expiracion1 =vto\n",
        "          if Black.volatilidad ==[0.1]:\n",
        "            volatilidad = Volatilidad(crypto=\"BTC\",Utilidad=\"V\")\n",
        "          else:\n",
        "            volatilidad = Black.volatilidad\n",
        "          try:\n",
        "            fecha_expiracion = ql.Date(int(fecha_expiracion1[0:2]), int(fecha_expiracion1[3:5]),int(fecha_expiracion1[6:10]))\n",
        "          except:\n",
        "            print(\"Por favor primero elegir todos los imputs\")\n",
        "          if CalloPut ==-1:\n",
        "            CalloPut=-1\n",
        "          \n",
        "          #Seteamos las variables que son datos de la web\n",
        "          precio_activo = getprice(\"btc_usd\")[\"estimated_delivery_price\"]\n",
        "          tasa_dividendos =  0.0 #tasa de dividendos anualizada (q)\n",
        "\n",
        "\n",
        "\n",
        "          fecha_valuacion = ql.Date(datetime.datetime.today().day, datetime.datetime.today().month, datetime.datetime.today().year)\n",
        "          ql.Settings.instance().evaluationDate = fecha_valuacion\n",
        "          day_count = ql.Actual365Fixed()\n",
        "          calendario = ql.UnitedStates()\n",
        "          tipo_opcion = CalloPut #Tipo de opcion (CALL o PUT)\n",
        "          payoff = ql.PlainVanillaPayoff(tipo_opcion, precio_ejercicio)\n",
        "          ejercicio_europeo = ql.EuropeanExercise(fecha_expiracion)\n",
        "          opcion_europea = ql.VanillaOption(payoff, ejercicio_europeo)\n",
        "          S = ql.SimpleQuote(precio_activo)\n",
        "          objeto_spot = ql.QuoteHandle(S)\n",
        "          r = ql.SimpleQuote(tasa_interes)\n",
        "          objeto_tasa_interes = ql.YieldTermStructureHandle(ql.FlatForward(fecha_valuacion, \n",
        "                                                                      ql.QuoteHandle(r), \n",
        "                                                                  day_count))\n",
        "          q = ql.SimpleQuote(tasa_dividendos)\n",
        "          objeto_tasa_dividendos = ql.YieldTermStructureHandle(ql.FlatForward(fecha_valuacion, \n",
        "                                                                ql.QuoteHandle(q), \n",
        "                                                                day_count))\n",
        "          sigma = ql.SimpleQuote(volatilidad)\n",
        "          objeto_volatilidad = ql.BlackVolTermStructureHandle(ql.BlackConstantVol(fecha_valuacion, \n",
        "                                                                          calendario, \n",
        "                                                                          ql.QuoteHandle(sigma), \n",
        "                                                                      day_count))\n",
        "          proceso_BSM = ql.BlackScholesMertonProcess(objeto_spot, \n",
        "                                                    objeto_tasa_dividendos, \n",
        "                                                    objeto_tasa_interes, \n",
        "                                                    objeto_volatilidad)\n",
        "          modelo_BS = ql.AnalyticEuropeanEngine(proceso_BSM)\n",
        "          opcion_europea.setPricingEngine(modelo_BS)\n",
        "          precio_opcion_BS = opcion_europea.NPV()\n",
        "          Black.delta = opcion_europea.delta()\n",
        "          vega_BS = opcion_europea.vega()\n",
        "          rho_BS = opcion_europea.rho() \n",
        "          theta_BS = opcion_europea.theta()\n",
        "          thetaPD_BS = opcion_europea.thetaPerDay()\n",
        "          strike_greek_BS = opcion_europea.strikeSensitivity()\n",
        "          gamma_BS = opcion_europea.gamma()\n",
        "          elasticity_BS = opcion_europea.elasticity()\n",
        "          if utilidad == \"E\":\n",
        "            print(\"El precio teorico usando el modelo de Black&Scholes es: \", precio_opcion_BS)\n",
        "          return precio_opcion_BS\n",
        "  def inputs():\n",
        "    Black.k=int(input(\"Introducir precio de ejercicio\"))\n",
        "    Black.i=int(input(\"Introducir tasa de interes libre de riesgo (en valor enter ej 13)\"))/100\n",
        "    Black.vto= input(\"Introducir fecha de vencimiento de la opcion (DD/MM/YYYY)\")\n",
        "    Black.tipo =input(\"Call o Put\").lower()\n",
        "    if Black.tipo == \"call\":\n",
        "      Black.CalloPut= 1\n",
        "    if Black.tipo == \"put\":\n",
        "      Black.CalloPut= -1\n",
        "\n",
        "  "
      ],
      "execution_count": null,
      "outputs": []
    },
    {
      "cell_type": "markdown",
      "metadata": {
        "id": "8V9vsTsRxJyi"
      },
      "source": [
        "#Modelo del Arbol Binomial"
      ]
    },
    {
      "cell_type": "code",
      "metadata": {
        "id": "tzo6EBRQxJyi"
      },
      "source": [
        "def Arbol(k,i,vto,volatilidad=0.1):\n",
        "          import datetime\n",
        "          cant_pasos_arbol = int(input(\"Cantidad de pasos del arbol (recomendado 5000)\"))\n",
        "          precio_ejercicio =k\n",
        "          tasa_interes = i\n",
        "          fecha_expiracion1 = vto\n",
        "          fecha_expiracion = ql.Date(int(fecha_expiracion1[0:2]), int(fecha_expiracion1[3:5]),int(fecha_expiracion1[6:10]))\n",
        "          #Seteamos las variables que son datos de la web\n",
        "          precio_activo = getprice(\"btc_usd\")[\"estimated_delivery_price\"]\n",
        "          if Black.volatilidad ==[0.1]:\n",
        "            volatilidad = Volatilidad(crypto=\"BTC\",Utilidad=\"V\")\n",
        "          else:\n",
        "            volatilidad = Black.volatilidad\n",
        "          tasa_dividendos =  0.0 #tasa de dividendos anualizada (q)\n",
        "          modelo_arbol = 'LR'\n",
        "          fecha_valuacion = ql.Date(datetime.datetime.today().day, datetime.datetime.today().month, datetime.datetime.today().year)\n",
        "          ql.Settings.instance().evaluationDate = fecha_valuacion\n",
        "          day_count = ql.Actual365Fixed()\n",
        "          calendario = ql.UnitedStates()\n",
        "          tipo_opcion = ql.Option.Call #Tipo de opcion (CALL o PUT)\n",
        "          payoff = ql.PlainVanillaPayoff(tipo_opcion, precio_ejercicio)\n",
        "          ejercicio_europeo = ql.EuropeanExercise(fecha_expiracion)\n",
        "          opcion_europea = ql.VanillaOption(payoff, ejercicio_europeo)\n",
        "          S = ql.SimpleQuote(precio_activo)\n",
        "          objeto_spot = ql.QuoteHandle(S)\n",
        "          r = ql.SimpleQuote(tasa_interes)\n",
        "          objeto_tasa_interes = ql.YieldTermStructureHandle(ql.FlatForward(fecha_valuacion, \n",
        "                                                                      ql.QuoteHandle(r), \n",
        "                                                                  day_count))\n",
        "          q = ql.SimpleQuote(tasa_dividendos)\n",
        "          objeto_tasa_dividendos = ql.YieldTermStructureHandle(ql.FlatForward(fecha_valuacion, \n",
        "                                                                ql.QuoteHandle(q), \n",
        "                                                                day_count))\n",
        "          sigma = ql.SimpleQuote(volatilidad)\n",
        "          objeto_volatilidad = ql.BlackVolTermStructureHandle(ql.BlackConstantVol(fecha_valuacion, \n",
        "                                                                          calendario, \n",
        "                                                                          ql.QuoteHandle(sigma), \n",
        "                                                                      day_count))\n",
        "          proceso_BSM = ql.BlackScholesMertonProcess(objeto_spot, \n",
        "                                                    objeto_tasa_dividendos, \n",
        "                                                    objeto_tasa_interes, \n",
        "                                                    objeto_volatilidad)\n",
        "          modelo_Bin = ql.BinomialVanillaEngine(proceso_BSM, \n",
        "                                                modelo_arbol, \n",
        "                                                cant_pasos_arbol)\n",
        "          opcion_europea.setPricingEngine(modelo_Bin)\n",
        "          precio_opcion_Bin = opcion_europea.NPV()\n",
        "\n",
        "\n",
        "\n",
        "          print(\"El precio teorico usando el modelo Binomial es: \",  precio_opcion_Bin)"
      ],
      "execution_count": null,
      "outputs": []
    },
    {
      "cell_type": "markdown",
      "metadata": {
        "id": "mBud8f9dxJyl"
      },
      "source": [
        "#Modelo Montecarlo"
      ]
    },
    {
      "cell_type": "code",
      "source": [
        "def MC(vto,i,k):\n",
        "          import datetime\n",
        "          caminos = int(input(\"Cantidad de caminos para montecarlo (recomendado 50000)\"))\n",
        "          generador_numeros_aleatorios = \"PseudoRandom\" \n",
        "          pasos_tiempo=20\n",
        "          precio_ejercicio =k\n",
        "          tasa_interes = i\n",
        "          fecha_expiracion1 = vto\n",
        "          fecha_expiracion = ql.Date(int(fecha_expiracion1[0:2]), int(fecha_expiracion1[3:5]),int(fecha_expiracion1[6:10]))\n",
        "          #Seteamos las variables que son datos de la web\n",
        "          precio_activo = getprice(\"btc_usd\")[\"estimated_delivery_price\"]\n",
        "          if Black.volatilidad ==[0.1]:\n",
        "            volatilidad = Volatilidad(crypto=\"BTC\",Utilidad=\"V\")\n",
        "          else:\n",
        "            volatilidad = Black.volatilidad  #Volatilidad Implicita anualizada (sigma)\n",
        "          tasa_dividendos =  0.0 #tasa de dividendos anualizada (q)\n",
        "          modelo_arbol = 'MC'\n",
        "          fecha_valuacion = ql.Date(datetime.datetime.today().day, datetime.datetime.today().month, datetime.datetime.today().year)\n",
        "          ql.Settings.instance().evaluationDate = fecha_valuacion\n",
        "          day_count = ql.Actual365Fixed()\n",
        "          calendario = ql.UnitedStates()\n",
        "          tipo_opcion = Black.CalloPut #Tipo de opcion (CALL o PUT)\n",
        "          payoff = ql.PlainVanillaPayoff(tipo_opcion, precio_ejercicio)\n",
        "          ejercicio_europeo = ql.EuropeanExercise(fecha_expiracion)\n",
        "          opcion_europea = ql.VanillaOption(payoff, ejercicio_europeo)\n",
        "          S = ql.SimpleQuote(precio_activo)\n",
        "          objeto_spot = ql.QuoteHandle(S)\n",
        "          r = ql.SimpleQuote(tasa_interes)\n",
        "          objeto_tasa_interes = ql.YieldTermStructureHandle(ql.FlatForward(fecha_valuacion, \n",
        "                                                                      ql.QuoteHandle(r), \n",
        "                                                                  day_count))\n",
        "          q = ql.SimpleQuote(tasa_dividendos)\n",
        "          objeto_tasa_dividendos = ql.YieldTermStructureHandle(ql.FlatForward(fecha_valuacion, \n",
        "                                                                ql.QuoteHandle(q), \n",
        "                                                                day_count))\n",
        "          sigma = ql.SimpleQuote(volatilidad)\n",
        "          objeto_volatilidad = ql.BlackVolTermStructureHandle(ql.BlackConstantVol(fecha_valuacion, \n",
        "                                                                          calendario, \n",
        "                                                                          ql.QuoteHandle(sigma), \n",
        "                                                                      day_count))\n",
        "          proceso_BSM = ql.BlackScholesMertonProcess(objeto_spot, \n",
        "                                                    objeto_tasa_dividendos, \n",
        "                                                    objeto_tasa_interes, \n",
        "                                                    objeto_volatilidad)\n",
        "          modelo_MC = ql.MCEuropeanEngine(proceso_BSM, \n",
        "                                generador_numeros_aleatorios, \n",
        "                                timeSteps = pasos_tiempo,\n",
        "                                requiredSamples = caminos)\n",
        "          opcion_europea.setPricingEngine(modelo_MC)\n",
        "          precio_opcion_MC = opcion_europea.NPV()\n",
        "          error_MC = opcion_europea.errorEstimate()\n",
        "          print(\"Error del metodo de MonteCarlo: \", error_MC)\n",
        "\n",
        "\n",
        "          print(\"El precio teorico usando el modelo de Monte Carlo es: \",  precio_opcion_MC)"
      ],
      "metadata": {
        "id": "ETdVgM0gRR16"
      },
      "execution_count": null,
      "outputs": []
    },
    {
      "cell_type": "markdown",
      "source": [
        "#Comparar"
      ],
      "metadata": {
        "id": "jfk8Aji24kJ5"
      }
    },
    {
      "cell_type": "code",
      "source": [
        "def comparar():\n",
        "  import datetime\n",
        "  strike2=int(input(\"introducir strike (multiplo de 1000)\"))\n",
        "  vto=input(\"Introducir vencimiento\")\n",
        "  tipo= input(\"Call o Put\").lower()\n",
        "  CalloPut=[]\n",
        "  CalloPut2=[]\n",
        "  fecha_expiracion = ql.Date(int(vto[0:2]), int(vto[3:5]),int(vto[6:10]))\n",
        "  fecha_valuacion = ql.Date(datetime.datetime.today().day, datetime.datetime.today().month, datetime.datetime.today().year)\n",
        "  dias= fecha_expiracion-fecha_valuacion\n",
        "  if strike2 not in strike:\n",
        "    print(strike)\n",
        "    strike2= int(input(\"Elegir uno de los arriba mencionados\"))\n",
        "  if dias not in Dias1:\n",
        "    print(Fechas)\n",
        "    dias= input(\"Elegir una fecha validad\")\n",
        "  print(vto,dias)\n",
        "  if tipo == \"call\":\n",
        "      CalloPut= \"C\"\n",
        "      CalloPut2=1\n",
        "  if tipo == \"put\":\n",
        "      CalloPut= \"P\"\n",
        "      CalloPut2=-1\n",
        "  Dias2=panel_limpio.Dias_al_VTO[panel_limpio.Dias_al_VTO == dias].index.tolist()  \n",
        "  Strikes= panel_limpio.Strike[panel_limpio.Strike == strike2].index.tolist()\n",
        "  tipo2= panel_limpio.Tipo[panel_limpio.Tipo == CalloPut].index.tolist()\n",
        "  index=list(set(Dias2) & set(Strikes) &set(tipo2)).pop()\n",
        "  a=panel_limpio['underlying_price'][index]*panel_limpio['mid_price'][index]\n",
        "  BSM=Black.BSM(k=strike2,vto=vto,CalloPut=CalloPut2,i=0.13,utilidad=\"BS\")\n",
        "  print(\"El precio medio al cual se puede operar en Deribit es de \"+str(a)+\" Mientras que el precio teorico por B&S es de: \"+str(BSM))\n",
        "\n",
        "\n",
        "\n",
        "\n",
        "\n",
        "\n",
        "  "
      ],
      "metadata": {
        "id": "Bd4qjValoahY"
      },
      "execution_count": null,
      "outputs": []
    },
    {
      "cell_type": "markdown",
      "metadata": {
        "id": "TVTlBbImYgMX"
      },
      "source": [
        "# Estrategias"
      ]
    },
    {
      "cell_type": "code",
      "metadata": {
        "id": "op2IZo2bh8vv"
      },
      "source": [
        "def protectiveput():\n",
        "  S0=getprice(\"btc_usd\")[\"estimated_delivery_price\"]\n",
        "  k=S0\n",
        "  put = Black.BSM(k=k,i=Black.i,vto=Black.vto,CalloPut=-1)\n",
        "  precio= getprice(\"btc_usd\")[\"estimated_delivery_price\"]\n",
        "  payofftotal=[]\n",
        "  precios= [35000,40000,45000,50000,55000,60000,65000,S0]\n",
        "  precios.sort()\n",
        "  payoff2=[]\n",
        "  for i in precios:\n",
        "    if i<=k:\n",
        "      payofftotal.append(k-i-put+i-S0)\n",
        "    if i>k:\n",
        "      payofftotal.append(-put+i-S0)\n",
        "  for i in precios:\n",
        "    payoff2.append(i-S0)\n",
        "  df = pd.DataFrame(list(zip(precios, payofftotal)),columns=[\"Precio\", \"Payoff\"])\n",
        "  df2 = pd.DataFrame(list(zip(precios, payoff2)),columns=[\"Precio\", \"Payoff\"])\n",
        "  plt.plot(df[\"Precio\"],df[\"Payoff\"],label='Protective put') \n",
        "  plt.plot(df2[\"Precio\"],df2[\"Payoff\"], '--',label='St') \n",
        "  plt.title(\"Protective put\")\n",
        "  plt.legend()\n",
        "  \n",
        "  print(\"\"\"Consiste en combinar el subyasente con una opcion del tipo Put, de tal manera que el subyasente esta protegido por la opcion. \n",
        "  Sirve para acortar la perdida sin limitar el upside. En este caso, el stike es igual al precio del subyasente\"\"\")\n",
        "  plt.show()"
      ],
      "execution_count": null,
      "outputs": []
    },
    {
      "cell_type": "code",
      "metadata": {
        "id": "8XGTxBhEgXPX"
      },
      "source": [
        "def Topstradle():\n",
        "  S0=getprice(\"btc_usd\")[\"estimated_delivery_price\"]\n",
        "  k=S0\n",
        "  put = Black.BSM(k=k,i=Black.i,vto=Black.vto,CalloPut=-1)\n",
        "  call= Black.BSM(k=k,i=Black.i,vto=Black.vto,CalloPut=1)\n",
        "  precio= getprice(\"btc_usd\")[\"estimated_delivery_price\"]\n",
        "  payofftotal=[]\n",
        "  precios= [30000,35000,40000,45000,50000,55000,60000,65000,70000,S0]\n",
        "  precios.sort()\n",
        "  \n",
        "  for i in precios:\n",
        "    if i<=k:\n",
        "      payofftotal.append(i-k+put+call)\n",
        "    if i>k:\n",
        "      payofftotal.append(put+call +k-i)\n",
        "  x0=-1*(-put -call-k)\n",
        "  x1=-1*(-k+put+call)\n",
        "  \n",
        "  df = pd.DataFrame(list(zip(precios, payofftotal)),columns=[\"Precio\", \"Payoff\"])\n",
        "  df.plot(x=\"Precio\",y=\"Payoff\")\n",
        "  plt.xticks([k,S0,x1,x0])\n",
        "  plt.title(\"Top Stradle\")\n",
        "  print(\"\"\"Es una estrategia que combina dos clases de opciones (Call y Put) La idea de esta estrategia es apostar a la lateralización, a la falta de volatilidad. \n",
        "  En ambas opciones, el strike es el precio del subyasente\"\"\")\n",
        "  plt.show()\n"
      ],
      "execution_count": null,
      "outputs": []
    },
    {
      "cell_type": "code",
      "metadata": {
        "id": "H01NqB6oZb3_"
      },
      "source": [
        "def Bottomstradle():\n",
        "  S0=getprice(\"btc_usd\")[\"estimated_delivery_price\"]\n",
        "  k=S0\n",
        "  put = Black.BSM(k=k,i=Black.i,vto=Black.vto,CalloPut=-1)\n",
        "  call = Black.BSM(k=k,i=Black.i,vto=Black.vto,CalloPut=1)\n",
        "  precio= getprice(\"btc_usd\")[\"estimated_delivery_price\"]\n",
        "  payofftotal=[]\n",
        "  precios= [30000,35000,40000,45000,50000,55000,60000,65000,70000,S0]\n",
        "  precios.sort()\n",
        "  \n",
        "  for i in precios:\n",
        "    if i<=k:\n",
        "      payofftotal.append(-1*(i-k+put+call))\n",
        "    if i>k:\n",
        "      payofftotal.append(-1*(put+call +k-i))\n",
        "  x0=-1*(-put -call-k)\n",
        "  x1=-1*(-k+put+call)\n",
        "  df = pd.DataFrame(list(zip(precios, payofftotal)),columns=[\"Precio\", \"Payoff\"])\n",
        "  df.plot(x=\"Precio\",y=\"Payoff\")\n",
        "  plt.title(\"Bottom Stradle\")\n",
        "  plt.xticks([k,S0,x1,x0])\n",
        "  print(\"\"\"Es una estrategia que combina dos clases de opciones (Call y Put) La idea de esta estrategia es apostar a la volatilidad, a que el subyasente termine lejos del strike, ya sea al alza o a la baja. \n",
        "  En ambas opciones, el strike es el precio del subyasente\"\"\")\n",
        "  plt.show()"
      ],
      "execution_count": null,
      "outputs": []
    },
    {
      "cell_type": "code",
      "metadata": {
        "id": "RplsmMpsg-XT"
      },
      "source": [
        "def moreisntbetter():\n",
        "  import datetime\n",
        "  S0=getprice(\"btc_usd\")[\"estimated_delivery_price\"]\n",
        "  k=S0\n",
        "  precioBSM = MIB.MoreISNOTbetter()\n",
        "  precio= getprice(\"btc_usd\")[\"estimated_delivery_price\"]\n",
        "  payofftotal=[]\n",
        "  precios= [35000,40000,45000,50000,55000,60000,65000,70000]\n",
        "  VN=100\n",
        "  for i in precios:\n",
        "    if i<=MIB.limitemin:\n",
        "      payofftotal.append(VN)\n",
        "    elif i<MIB.limitemax:\n",
        "      payofftotal.append(VN*i/S0)\n",
        "    else:\n",
        "      payofftotal.append(VN*np.exp(MIB.i*MIB.vto))\n",
        "  df = pd.DataFrame(list(zip(precios, payofftotal)),columns=[\"Precio\", \"Payoff\"])\n",
        "  df.plot(x=\"Precio\",y=\"Payoff\")\n",
        "  plt.title(\"More Isn´t Better\")\n",
        "  print(\"El precio del bono es de:\" + str(precioBSM))\n",
        "  plt.show()"
      ],
      "execution_count": null,
      "outputs": []
    },
    {
      "cell_type": "code",
      "metadata": {
        "id": "6tC2mBhh7llN"
      },
      "source": [
        "def Topstrangle():\n",
        "  S0=getprice(\"btc_usd\")[\"estimated_delivery_price\"]\n",
        "  k1=S0*0.8\n",
        "  k2=S0*1.2\n",
        "\n",
        "  put = Black.BSM(k=k1,i=Black.i,vto=Black.vto,CalloPut=-1)\n",
        "  call = Black.BSM(k=k2,i=Black.i,vto=Black.vto,CalloPut=1)\n",
        "  precio= getprice(\"btc_usd\")[\"estimated_delivery_price\"]\n",
        "  payofftotal=[]\n",
        "  precios= [30000,35000,40000,45000,50000,55000,60000,65000,70000,k1,k2]\n",
        "  precios.sort()\n",
        "  \n",
        "  for i in precios:\n",
        "    if i<k1:\n",
        "      payofftotal.append(i-k1+put+call)\n",
        "    if i<=k2 and i>=k1:\n",
        "      payofftotal.append(call+put)\n",
        "    if i>k2:\n",
        "      payofftotal.append(put+call +k2-i)\n",
        "  df = pd.DataFrame(list(zip(precios, payofftotal)),columns=[\"Precio\", \"Payoff\"])\n",
        "  df.plot(x=\"Precio\",y=\"Payoff\")\n",
        "  plt.title(\"Top Strangle\")\n",
        "  plt.xticks([k1,k2,S0])\n",
        "  print(\"\"\"La idea es similar al Top Stradle pero resignando un poco de ganancia maxima para apliar el rango en el cual el payoff es positivo.\n",
        "          Los strikes utilizados son 80% y 120% del precio del subyasente\"\"\")\n",
        "  plt.show()\n",
        "\n"
      ],
      "execution_count": null,
      "outputs": []
    },
    {
      "cell_type": "code",
      "metadata": {
        "id": "mrhrLzJu9n_-"
      },
      "source": [
        "def Bottomstrangle():\n",
        "  S0=getprice(\"btc_usd\")[\"estimated_delivery_price\"]\n",
        "  k1=S0*0.8\n",
        "  k2=S0*1.2\n",
        "\n",
        "  put = Black.BSM(k=k1,i=Black.i,vto=Black.vto,CalloPut=-1)\n",
        "  call = Black.BSM(k=k2,i=Black.i,vto=Black.vto,CalloPut=1)\n",
        "  precio= getprice(\"btc_usd\")[\"estimated_delivery_price\"]\n",
        "  payofftotal=[]\n",
        "  precios= [30000,35000,40000,45000,50000,55000,60000,65000,70000,k1,k2]\n",
        "  precios.sort()\n",
        "  \n",
        "  for i in precios:\n",
        "    if i<k1:\n",
        "      payofftotal.append(-1*(i-k1+put+call))\n",
        "    if i<=k2 and i>=k1:\n",
        "      payofftotal.append(-1*(put+call))\n",
        "    if i>k2:\n",
        "      payofftotal.append(-1*(put+call +k2-i))\n",
        "  df = pd.DataFrame(list(zip(precios, payofftotal)),columns=[\"Precio\", \"Payoff\"])\n",
        "  df.plot(x=\"Precio\",y=\"Payoff\")\n",
        "  plt.title(\"Bottom Strangle\")\n",
        "  plt.xticks([k1,k2,S0])\n",
        "  print(\"\"\"La idea es similar al Bottom Stradle pero resignando parte del rango en el cual el payoff es positivo para que la perdida maxima sea menor.\n",
        "          Los strikes utilizados son 80% y 120% del precio del subyasente\"\"\")\n",
        "  plt.show()"
      ],
      "execution_count": null,
      "outputs": []
    },
    {
      "cell_type": "code",
      "metadata": {
        "id": "37BxloHy1Yki"
      },
      "source": [
        "def collar():\n",
        "  S0=getprice(\"btc_usd\")[\"estimated_delivery_price\"]\n",
        "  k1=S0\n",
        "  k2=S0*1.3\n",
        "  put = Black.BSM(k=k1,i=Black.i,vto=Black.vto,CalloPut=-1)\n",
        "  call = Black.BSM(k=k2,i=Black.i,vto=Black.vto,CalloPut=1)\n",
        "  precio= getprice(\"btc_usd\")[\"estimated_delivery_price\"]\n",
        "  payofftotal=[]\n",
        "  precios= [45000,50000,55000,60000,65000,70000,k1,k2]\n",
        "  precios.sort()\n",
        "  for i in precios:\n",
        "    if i<k1:\n",
        "      payofftotal.append(k1-i-put+i-S0+call)\n",
        "    if i>=k1 and i<=k2:\n",
        "      payofftotal.append(-put+i-S0+call)\n",
        "    if i>k2:\n",
        "      payofftotal.append(-put+i-S0+call +k2-i)\n",
        "  df = pd.DataFrame(list(zip(precios, payofftotal)),columns=[\"Precio\", \"Payoff\"])\n",
        "  df.plot(x=\"Precio\",y=\"Payoff\")\n",
        "  plt.xticks([k1,k2,S0*1.15])\n",
        "  plt.title(\"Protective put\")\n",
        "  print(k1,k2, precios)\n",
        "  plt.show()"
      ],
      "execution_count": null,
      "outputs": []
    },
    {
      "cell_type": "markdown",
      "metadata": {
        "id": "PQ95HvIe5Aw6"
      },
      "source": [
        "# More isn´t Better\n"
      ]
    },
    {
      "cell_type": "code",
      "metadata": {
        "id": "JWXPxoRt6XNV"
      },
      "source": [
        "    \n",
        "def ND1():    \n",
        "    \n",
        "      terminoln=MIB.limitemin/(MIB.S0*np.exp(MIB.rf*MIB.vto))\n",
        "      D1= (np.log(terminoln)- (MIB.rf-pow(MIB.volatilidad,2)/2)*MIB.vto)/(MIB.volatilidad*pow(MIB.vto,0.5))\n",
        "      ND1 = norm().cdf(D1)\n",
        "      return ND1"
      ],
      "execution_count": null,
      "outputs": []
    },
    {
      "cell_type": "code",
      "metadata": {
        "id": "zUVnrscw_DXq"
      },
      "source": [
        "        \n",
        "def ND2():        \n",
        "          terminoln=MIB.limitemax/(MIB.S0*np.exp(MIB.rf*MIB.vto))\n",
        "          D2= (np.log(terminoln)- (MIB.rf+pow(MIB.volatilidad,2)/2)*MIB.vto)/(MIB.volatilidad*pow(MIB.vto,0.5))\n",
        "          ND2 = norm().cdf(D2)\n",
        "          return ND2"
      ],
      "execution_count": null,
      "outputs": []
    },
    {
      "cell_type": "code",
      "metadata": {
        "id": "SjJd8WmOCrC5"
      },
      "source": [
        "def ND3():  \n",
        "        #D3=D1-volatilidad*pow(vto,0.5)\n",
        "        terminoln=MIB.limitemin/(MIB.S0*np.exp(MIB.rf*MIB.vto))\n",
        "\n",
        "        D3=(np.log(terminoln)- (MIB.rf+pow(MIB.volatilidad,2)/2)*MIB.vto)/(MIB.volatilidad*pow(MIB.vto,0.5)) \n",
        "\n",
        "        ND3 = norm().cdf(D3)\n",
        "        return ND3\n"
      ],
      "execution_count": null,
      "outputs": []
    },
    {
      "cell_type": "code",
      "metadata": {
        "id": "9uv_8MvgEZMw"
      },
      "source": [
        "def ND4():\n",
        "        terminoln= (MIB.S0*np.exp(MIB.rf*MIB.vto)/MIB.limitemax)\n",
        "\n",
        "        D4=(np.log(terminoln) + (MIB.rf-pow(MIB.volatilidad,2)/2)*MIB.vto)/(MIB.volatilidad*pow(MIB.vto,0.5))\n",
        "        #D4= -D2-MIB.volatilidad*pow(vto,0.5)\n",
        "        ND4 = norm().cdf(D4)\n",
        "        return ND4"
      ],
      "execution_count": null,
      "outputs": []
    },
    {
      "cell_type": "code",
      "metadata": {
        "id": "4HZ-C2Sq5PB9"
      },
      "source": [
        "class MIB():\n",
        "          S0=[]\n",
        "          limitemin=[]\n",
        "          limitemax=[]\n",
        "          vto=[]\n",
        "          i=[]\n",
        "          rf=[]\n",
        "          volatilidad=[]\n",
        "          def MoreISNOTbetter():\n",
        "                  import datetime\n",
        "                  MIB.S0 = getprice(\"btc_usd\")[\"estimated_delivery_price\"] #Spot (S)\n",
        "                  MIB.limitemin = int(input(\"Introducir limite inferior\"))#Strike (K)\n",
        "                  MIB.limitemax= int(input(\"Introducir limite Superior\"))\n",
        "                  vto= input(\"Introducir fecha de vto (DD/MM/YYYY)\")\n",
        "                  MIB.i = int(input(\"Introducir tasa de interes (pagada si supera lim sup) en numero entero\"))/100 #tasa que se paga si ST>limitemax \n",
        "                  MIB.rf =int(input(\"Introducir tasa libre de riesgo en numero entero\"))/100 #tasa libre de riesgo anualizada (r)\n",
        "                  MIB.volatilidad = pow(0.751,0.5) #volatility.volatility[-1]/100  #Volatilidad Implicita anualizada (sigma)\n",
        "                  fecha_expiracion = ql.Date(int(vto[0:2]), int(vto[3:5]),int(vto[6:10]))\n",
        "                  fecha_valuacion = ql.Date(datetime.datetime.today().day, datetime.datetime.today().month, datetime.datetime.today().year)\n",
        "                  tasa_dividendos =  0.0 #tasa de dividendos anualizada (q)\n",
        "                  VN = 100\n",
        "                  MIB.vto = (fecha_expiracion-fecha_valuacion)/365\n",
        "                  F= VN*np.exp(-MIB.rf*MIB.vto)*ND1()+VN*np.exp(MIB.rf*MIB.vto)*(ND2()-ND3())+VN*np.exp(MIB.i*MIB.vto)*ND4()\n",
        "                  return F\n"
      ],
      "execution_count": null,
      "outputs": []
    },
    {
      "cell_type": "markdown",
      "source": [
        "#Chooser"
      ],
      "metadata": {
        "id": "S9gJDH4FhhhS"
      }
    },
    {
      "cell_type": "code",
      "metadata": {
        "id": "CSSwA2c3O5t8"
      },
      "source": [
        "def chooser():\n",
        "        ck=input(\"strike call\")\n",
        "        vto=(input(\"Vto Chooser (DD/MM/YYYY)\"))\n",
        "        pk=input(\"Strike Put\")\n",
        "        choosedate=input(\"Fecha de elección\")\n",
        "        i=int(input(\"poner tasa de interes en numero entero\"))/100\n",
        "        vto1 =ql.Date(int(vto[0:2]), int(vto[3:5]),int(vto[6:10]))\n",
        "        choosedate1 = ql.Date(int(choosedate[0:2]), int(choosedate[3:5]),int(choosedate[6:10])) \n",
        "        fecha_valuacion = ql.Date(datetime.datetime.today().day, datetime.datetime.today().month, datetime.datetime.today().year)     \n",
        "        Call = BSM(k=int(ck),vto=vto, i=i)\n",
        "        Put= BSM(k=int(pk)*np.exp(-1*i*((vto1-choosedate1)/365)),vto=choosedate,CalloPut=-1, i=i)\n",
        "        Chooser= (Call+Put)*np.exp(-1*i*((choosedate1-fecha_valuacion)/365))\n",
        "        print(\"el precio de la opcion ex es\", Chooser)\n",
        "\n"
      ],
      "execution_count": null,
      "outputs": []
    },
    {
      "cell_type": "markdown",
      "metadata": {
        "id": "1fQM_Uols9o-"
      },
      "source": [
        "# Menu"
      ]
    },
    {
      "cell_type": "code",
      "metadata": {
        "id": "EkP5WeNxs_xF"
      },
      "source": [
        "class Menu:\n",
        "        def __init__(self):\n",
        "                self.elecciones = {\n",
        "                        \"1\": Black.inputs,\n",
        "                        \"2\": self.BSM,\n",
        "                        \"3\": self.Arbol,\n",
        "                        \"4\": self.MC,\n",
        "                        \"5\": self.comparar,\n",
        "                        \"0\": self.quit,\n",
        "                        \"1A\": Black.inputs,\n",
        "                        \"1B\": self.volatilidad,\n",
        "                        \"1C\": self.rf,\n",
        "                        \"1D\": self.strike,\n",
        "                        \"1E\": self.vto,\n",
        "                        \"1F\": self.CalloPut,\n",
        "                        \"1G\": self.mostrar,\n",
        "                        \"6A\": protectiveput,\n",
        "                        \"6B\": Topstradle,\n",
        "                        \"6C\": Bottomstradle,\n",
        "                        \"6D\": moreisntbetter,\n",
        "                        \"6E\": self.todos\n",
        "\n",
        "                                       }\n",
        "        def mostrar_menu(self):\n",
        "            print(\"\"\"\n",
        "\t\t               Menu Cuaderno\n",
        "\n",
        "                1 Elegir inputs\n",
        "                2 Black&scholes&Merton\n",
        "                3 Arbol binomial\n",
        "                4 Monte Carlo\n",
        "                5 Comparar\n",
        "                6 Estrategias\n",
        "                0 Salir\n",
        "                \n",
        "                \n",
        "                \"\"\")\n",
        "        def mostrar_inputs(self):\n",
        "            print(\"\"\"\n",
        "\t\t               Menu Cuaderno\n",
        "                A. Modificar todos los inputs\n",
        "                B. Modificar volatilidad\n",
        "                C. Modificar tasa libre de riesgo\n",
        "                D. Modificar strike\n",
        "                E. Modificar vencimiento  \n",
        "                F. Modificar tipo de opcion \n",
        "                G. Mostrar inputs elegidos\n",
        "                H. Atras\n",
        "\n",
        "                \n",
        "                \"\"\")\n",
        "        def mostrar_estrategias(self):\n",
        "            print(\"\"\"\n",
        "\t\t               Menu Cuaderno\n",
        "              A. Protective Put\n",
        "              B. Top Straddle\n",
        "              C. Bottom Stradle\n",
        "              D. More isn´t better\n",
        "              E. Todos\n",
        "              F. Atras\n",
        "\n",
        "                \n",
        "                \"\"\")\n",
        "\n",
        "        def BSM(self):\n",
        "          Black.BSM(k=Black.k,i=Black.i,vto=Black.vto,CalloPut=Black.CalloPut, utilidad=\"E\")\n",
        "        def Arbol(self):\n",
        "          Arbol(Black.k,Black.i,Black.vto)\n",
        "        def MC(self):\n",
        "          MC(k=Black.k,i=Black.i,vto=Black.vto)\n",
        "        def comparar(self):\n",
        "          comparar()\n",
        "        def strike(Self):\n",
        "          Black.k=int(input(\"intoducir s1trike\"))\n",
        "        def volatilidad(Self):\n",
        "          Black.volatilidad=int(input(\"intoducir volatilidad\"))/100\n",
        "        def rf(Self):\n",
        "          Black.i=int(input(\"intoducir tasa de interes\"))\n",
        "        def vto(Self):\n",
        "          Black.vto=input(\"intoducir vto\")\n",
        "        def CalloPut(self):\n",
        "              Black.tipo =input(\"Call o Put\").lower()    \n",
        "              if Black.tipo == \"call\":\n",
        "                Black.CalloPut= 1\n",
        "              if Black.tipo == \"put\":\n",
        "                Black.CalloPut= -1\n",
        "        def mostrar(Self):\n",
        "          print(\"strike: \" + str(Black.k),\"Volatilidad: \" + str(Black.volatilidad),\"Tasa de interes: \" + str(Black.i),\"Vencimiento: \"+Black.vto,\"Es del tipo\" + str(Black.tipo))\n",
        "\n",
        "        def todos(self):  \n",
        "                \n",
        "                protectiveput()\n",
        "                Bottomstrangle()\n",
        "                Topstrangle()\n",
        "                Bottomstradle()\n",
        "                Topstradle()\n",
        "                collar()\n",
        "                               \n",
        "\n",
        "\n",
        "\n",
        "\n",
        "\n",
        "\n",
        "        def  run(self):\n",
        "                           while True:\n",
        "                                    self.mostrar_menu()\n",
        "                                    eleccion = input(\"Escribe una opcion:\")\n",
        "                                    while eleccion ==str(1):\n",
        "                                      self.mostrar_inputs()\n",
        "                                      eleccion = eleccion + input(\"Escribe una opcion:\")\n",
        "                                    while eleccion ==str(6):\n",
        "                                      self.mostrar_estrategias()\n",
        "                                      eleccion = eleccion + input(\"Escribe una opcion:\")\n",
        "                                    accion = self.elecciones.get(eleccion)\n",
        "                                    if accion:\n",
        "                                                    accion()   \n",
        "\n",
        "                                    elif len(eleccion)==2:\n",
        "                                        True\n",
        "                                    else:\n",
        "                                                  print (\"{0} no es una eleccion valida\".format(eleccion))\n",
        "\n",
        "                    \n",
        "                                            \n",
        "\n",
        "            \n",
        "\n",
        "        def quit(self):\n",
        "                                print(\"gracias por su atención\")\n",
        "                                sys.exit(0) "
      ],
      "execution_count": null,
      "outputs": []
    },
    {
      "cell_type": "code",
      "source": [
        "import datetime\n",
        "import QuantLib"
      ],
      "metadata": {
        "id": "gZ_bz49sxX0R"
      },
      "execution_count": null,
      "outputs": []
    },
    {
      "cell_type": "code",
      "metadata": {
        "colab": {
          "base_uri": "https://localhost:8080/"
        },
        "id": "4k7wQxmxtHR7",
        "outputId": "c38f6e44-5288-4998-a2ef-28650d10698c"
      },
      "source": [
        "Menu().run()\n",
        "\n"
      ],
      "execution_count": null,
      "outputs": [
        {
          "output_type": "stream",
          "name": "stdout",
          "text": [
            "\n",
            "\t\t               Menu Cuaderno\n",
            "\n",
            "                1 Elegir inputs\n",
            "                2 Black&scholes&Merton\n",
            "                3 Arbol binomial\n",
            "                4 Monte Carlo\n",
            "                5 Comparar\n",
            "                6 Estrategias\n",
            "                0 Salir\n",
            "                \n",
            "                \n",
            "                \n"
          ]
        }
      ]
    }
  ]
}